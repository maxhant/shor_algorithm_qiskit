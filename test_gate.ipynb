{
 "cells": [
  {
   "cell_type": "code",
   "execution_count": 2,
   "metadata": {
    "scrolled": true
   },
   "outputs": [
    {
     "name": "stdout",
     "output_type": "stream",
     "text": [
      "The main registers contain 4 qubits each\n",
      "[2, 5, 6, 0, '00000000001', '0000', '0000']\n",
      "{'100000000000000011010100100 0000 0000': 10}\n"
     ]
    }
   ],
   "source": [
    "import qiskit as q\n",
    "import numpy as np\n",
    "from gates import *\n",
    "from handler import nb_to_reg, keys_to_nb, size\n",
    "# import pytest\n",
    "from qiskit import Aer\n",
    "\n",
    "backend = Aer.get_backend('qasm_simulator')\n",
    "c = q.QuantumCircuit()\n",
    "x, N, n = size([2, 6])\n",
    "# if n1+n2>n*N:\n",
    "#     print(\"The program currently does not support modulos that complex\")\n",
    "print(f'The main registers contain {n} qubits each')\n",
    "regx, c = nb_to_reg(x, c, name=\"x_{reg}\", size=n)\n",
    "reg2 = q.QuantumRegister(n, name='reg_0')\n",
    "c.add_register(reg2)\n",
    "regN, c = nb_to_reg(N, c, name=\"capn_{reg}\", size=n)\n",
    "reg1 = q.QuantumRegister(n, name='reg_1')\n",
    "regN_ctrl = q.QuantumRegister(n, name='n_ctrl')\n",
    "ancil = q.QuantumRegister(n+3, name='ancillae')\n",
    "meas1 = q.ClassicalRegister(n, name='a_{meas}')\n",
    "meas2 = q.ClassicalRegister(n, name='b_{meas}')\n",
    "c.add_register(reg1, regN_ctrl, ancil, meas1, meas2)\n",
    "\n",
    "# c = Adder_mod(c, reg1, reg2, regN, regN_ctrl, ancil)\n",
    "c.x(ancil[-1])\n",
    "c = Ctrl_mod(c, regx, reg1, reg2, regN, regN_ctrl, ancil)\n",
    "c.measure_all()\n",
    "job = q.execute(c, backend=backend, shots=1)\n",
    "out = job.result().get_counts(c)\n",
    "print(keys_to_nb(out, size=n, nb_keys=4))\n",
    "print(out)\n",
    "# print((n1+n2)%N)\n"
   ]
  },
  {
   "cell_type": "code",
   "execution_count": 4,
   "metadata": {},
   "outputs": [
    {
     "ename": "NameError",
     "evalue": "name 'table' is not defined",
     "output_type": "error",
     "traceback": [
      "\u001b[1;31m---------------------------------------------------------------------------\u001b[0m",
      "\u001b[1;31mNameError\u001b[0m                                 Traceback (most recent call last)",
      "\u001b[1;32m<ipython-input-4-114c4e429118>\u001b[0m in \u001b[0;36m<module>\u001b[1;34m\u001b[0m\n\u001b[0;32m      2\u001b[0m \u001b[1;33m\u001b[0m\u001b[0m\n\u001b[0;32m      3\u001b[0m \u001b[0mw\u001b[0m \u001b[1;33m=\u001b[0m \u001b[0mcsv\u001b[0m\u001b[1;33m.\u001b[0m\u001b[0mwriter\u001b[0m\u001b[1;33m(\u001b[0m\u001b[0mopen\u001b[0m\u001b[1;33m(\u001b[0m\u001b[1;34m\"output3.csv\"\u001b[0m\u001b[1;33m,\u001b[0m \u001b[1;34m\"w\"\u001b[0m\u001b[1;33m)\u001b[0m\u001b[1;33m)\u001b[0m\u001b[1;33m\u001b[0m\u001b[1;33m\u001b[0m\u001b[0m\n\u001b[1;32m----> 4\u001b[1;33m \u001b[1;32mfor\u001b[0m \u001b[0mkey\u001b[0m\u001b[1;33m,\u001b[0m \u001b[0mval\u001b[0m \u001b[1;32min\u001b[0m \u001b[0mtable\u001b[0m\u001b[1;33m.\u001b[0m\u001b[0mitems\u001b[0m\u001b[1;33m(\u001b[0m\u001b[1;33m)\u001b[0m\u001b[1;33m:\u001b[0m\u001b[1;33m\u001b[0m\u001b[1;33m\u001b[0m\u001b[0m\n\u001b[0m\u001b[0;32m      5\u001b[0m     \u001b[0mw\u001b[0m\u001b[1;33m.\u001b[0m\u001b[0mwriterow\u001b[0m\u001b[1;33m(\u001b[0m\u001b[1;33m[\u001b[0m\u001b[0mkey\u001b[0m\u001b[1;33m,\u001b[0m \u001b[0mval\u001b[0m\u001b[1;33m]\u001b[0m\u001b[1;33m)\u001b[0m\u001b[1;33m\u001b[0m\u001b[1;33m\u001b[0m\u001b[0m\n",
      "\u001b[1;31mNameError\u001b[0m: name 'table' is not defined"
     ]
    }
   ],
   "source": [
    "# import csv\n",
    "\n",
    "# w = csv.writer(open(\"output3.csv\", \"w\"))\n",
    "# for key, val in table.items():\n",
    "#     w.writerow([key, val])\n",
    "\n",
    "# c.draw(output='text', scale=1, filename='circuit.png', interactive=False, plot_barriers=True, reverse_bits=False, justify=None, vertical_compression='high', idle_wires=True, with_layout=True, fold=-1, ax=None, initial_state=True, cregbundle=False)\n",
    "\n",
    "def test_Sum(Sum):\n",
    "    c = q.QuantumCircuit(3)\n",
    "    for i in [0,1,2,0,1,2,1]:\n",
    "        c.x(i)\n",
    "        c.measure_all()\n",
    "\n",
    "    job = q.execute(c, backend=backend, shots=100)\n",
    "    inp = job.result().get_counts(c)\n",
    "    inp = list(inp)[0].split(\" \")\n",
    "    \n",
    "    c = q.QuantumCircuit(3)\n",
    "    for i in [0,1,2,0,1,2,1]:\n",
    "        c.x(i)\n",
    "        c = Sum(c, [0, 1, 2])\n",
    "        c.measure_all()\n",
    "\n",
    "    job = q.execute(c, backend=backend, shots=100)\n",
    "    out = job.result().get_counts(c)\n",
    "    out = list(out)[0].split(\" \")\n",
    "    \n",
    "\n",
    "# def test_Carry(Carry):\n",
    "        \n",
    "\n",
    "\n"
   ]
  },
  {
   "cell_type": "code",
   "execution_count": 5,
   "metadata": {},
   "outputs": [
    {
     "data": {
      "text/plain": [
       "4"
      ]
     },
     "execution_count": 5,
     "metadata": {},
     "output_type": "execute_result"
    }
   ],
   "source": [
    "n"
   ]
  },
  {
   "cell_type": "code",
   "execution_count": 4,
   "metadata": {},
   "outputs": [
    {
     "ename": "TypeError",
     "evalue": "unsupported operand type(s) for -: 'int' and 'range'",
     "output_type": "error",
     "traceback": [
      "\u001b[1;31m---------------------------------------------------------------------------\u001b[0m",
      "\u001b[1;31mTypeError\u001b[0m                                 Traceback (most recent call last)",
      "\u001b[1;32m<ipython-input-4-8655aebb3fb3>\u001b[0m in \u001b[0;36m<module>\u001b[1;34m\u001b[0m\n\u001b[1;32m----> 1\u001b[1;33m \u001b[0mlist\u001b[0m\u001b[1;33m(\u001b[0m\u001b[0mrange\u001b[0m\u001b[1;33m(\u001b[0m\u001b[1;36m4\u001b[0m\u001b[1;33m)\u001b[0m\u001b[1;33m)\u001b[0m\u001b[1;33m[\u001b[0m\u001b[1;33m(\u001b[0m\u001b[1;36m5\u001b[0m\u001b[1;33m-\u001b[0m\u001b[0mrange\u001b[0m\u001b[1;33m(\u001b[0m\u001b[1;36m4\u001b[0m\u001b[1;33m)\u001b[0m\u001b[1;33m)\u001b[0m\u001b[1;33m]\u001b[0m\u001b[1;33m\u001b[0m\u001b[1;33m\u001b[0m\u001b[0m\n\u001b[0m",
      "\u001b[1;31mTypeError\u001b[0m: unsupported operand type(s) for -: 'int' and 'range'"
     ]
    }
   ],
   "source": [
    "list(range(4))[(5-range(4))]"
   ]
  },
  {
   "cell_type": "code",
   "execution_count": 2,
   "metadata": {},
   "outputs": [
    {
     "data": {
      "text/plain": [
       "[1, 1, 1]"
      ]
     },
     "execution_count": 2,
     "metadata": {},
     "output_type": "execute_result"
    }
   ],
   "source": []
  }
 ],
 "metadata": {
  "kernelspec": {
   "display_name": "Python 3",
   "language": "python",
   "name": "python3"
  },
  "language_info": {
   "codemirror_mode": {
    "name": "ipython",
    "version": 3
   },
   "file_extension": ".py",
   "mimetype": "text/x-python",
   "name": "python",
   "nbconvert_exporter": "python",
   "pygments_lexer": "ipython3",
   "version": "3.7.9"
  }
 },
 "nbformat": 4,
 "nbformat_minor": 4
}
